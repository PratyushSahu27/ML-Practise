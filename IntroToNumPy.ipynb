{
 "cells": [
  {
   "cell_type": "code",
   "execution_count": 182,
   "id": "8f3dfc2c",
   "metadata": {},
   "outputs": [],
   "source": [
    "import numpy as np"
   ]
  },
  {
   "cell_type": "code",
   "execution_count": 183,
   "id": "fd02f015",
   "metadata": {},
   "outputs": [],
   "source": [
    "a1 = np.array([2,4,5,67])"
   ]
  },
  {
   "cell_type": "code",
   "execution_count": 184,
   "id": "6d3df261",
   "metadata": {},
   "outputs": [
    {
     "data": {
      "text/plain": [
       "array([ 2,  4,  5, 67])"
      ]
     },
     "execution_count": 184,
     "metadata": {},
     "output_type": "execute_result"
    }
   ],
   "source": [
    "a1"
   ]
  },
  {
   "cell_type": "code",
   "execution_count": 185,
   "id": "d7ad42aa",
   "metadata": {},
   "outputs": [
    {
     "data": {
      "text/plain": [
       "numpy.ndarray"
      ]
     },
     "execution_count": 185,
     "metadata": {},
     "output_type": "execute_result"
    }
   ],
   "source": [
    "type(a1)"
   ]
  },
  {
   "cell_type": "code",
   "execution_count": 186,
   "id": "d61deca1",
   "metadata": {},
   "outputs": [],
   "source": [
    "a2 = np.array([[2,3,4,5],[1,3,4,5]])"
   ]
  },
  {
   "cell_type": "code",
   "execution_count": 187,
   "id": "e6e31346",
   "metadata": {},
   "outputs": [
    {
     "data": {
      "text/plain": [
       "array([[2, 3, 4, 5],\n",
       "       [1, 3, 4, 5]])"
      ]
     },
     "execution_count": 187,
     "metadata": {},
     "output_type": "execute_result"
    }
   ],
   "source": [
    "a2"
   ]
  },
  {
   "cell_type": "code",
   "execution_count": 188,
   "id": "51667d72",
   "metadata": {},
   "outputs": [
    {
     "data": {
      "text/plain": [
       "(4,)"
      ]
     },
     "execution_count": 188,
     "metadata": {},
     "output_type": "execute_result"
    }
   ],
   "source": [
    "a1.shape"
   ]
  },
  {
   "cell_type": "code",
   "execution_count": 189,
   "id": "70fa1142",
   "metadata": {},
   "outputs": [
    {
     "data": {
      "text/plain": [
       "(2, 4)"
      ]
     },
     "execution_count": 189,
     "metadata": {},
     "output_type": "execute_result"
    }
   ],
   "source": [
    "a2.shape"
   ]
  },
  {
   "cell_type": "code",
   "execution_count": 190,
   "id": "2441e006",
   "metadata": {},
   "outputs": [
    {
     "data": {
      "text/plain": [
       "(1, 2)"
      ]
     },
     "execution_count": 190,
     "metadata": {},
     "output_type": "execute_result"
    }
   ],
   "source": [
    "a1.ndim, a2.ndim"
   ]
  },
  {
   "cell_type": "code",
   "execution_count": 191,
   "id": "8dcb0693",
   "metadata": {},
   "outputs": [
    {
     "data": {
      "text/plain": [
       "(dtype('int32'), dtype('int32'))"
      ]
     },
     "execution_count": 191,
     "metadata": {},
     "output_type": "execute_result"
    }
   ],
   "source": [
    "a1.dtype, a2.dtype"
   ]
  },
  {
   "cell_type": "code",
   "execution_count": 192,
   "id": "e63c7b22",
   "metadata": {},
   "outputs": [
    {
     "data": {
      "text/plain": [
       "(4, 8)"
      ]
     },
     "execution_count": 192,
     "metadata": {},
     "output_type": "execute_result"
    }
   ],
   "source": [
    "a1.size, a2.size"
   ]
  },
  {
   "cell_type": "code",
   "execution_count": 193,
   "id": "9a7651c8",
   "metadata": {},
   "outputs": [],
   "source": [
    "import pandas as pd"
   ]
  },
  {
   "cell_type": "code",
   "execution_count": 194,
   "id": "75abf5b6",
   "metadata": {},
   "outputs": [
    {
     "data": {
      "text/html": [
       "<div>\n",
       "<style scoped>\n",
       "    .dataframe tbody tr th:only-of-type {\n",
       "        vertical-align: middle;\n",
       "    }\n",
       "\n",
       "    .dataframe tbody tr th {\n",
       "        vertical-align: top;\n",
       "    }\n",
       "\n",
       "    .dataframe thead th {\n",
       "        text-align: right;\n",
       "    }\n",
       "</style>\n",
       "<table border=\"1\" class=\"dataframe\">\n",
       "  <thead>\n",
       "    <tr style=\"text-align: right;\">\n",
       "      <th></th>\n",
       "      <th>0</th>\n",
       "      <th>1</th>\n",
       "      <th>2</th>\n",
       "      <th>3</th>\n",
       "    </tr>\n",
       "  </thead>\n",
       "  <tbody>\n",
       "    <tr>\n",
       "      <th>0</th>\n",
       "      <td>2</td>\n",
       "      <td>3</td>\n",
       "      <td>4</td>\n",
       "      <td>5</td>\n",
       "    </tr>\n",
       "    <tr>\n",
       "      <th>1</th>\n",
       "      <td>1</td>\n",
       "      <td>3</td>\n",
       "      <td>4</td>\n",
       "      <td>5</td>\n",
       "    </tr>\n",
       "  </tbody>\n",
       "</table>\n",
       "</div>"
      ],
      "text/plain": [
       "   0  1  2  3\n",
       "0  2  3  4  5\n",
       "1  1  3  4  5"
      ]
     },
     "execution_count": 194,
     "metadata": {},
     "output_type": "execute_result"
    }
   ],
   "source": [
    "df = pd.DataFrame(a2)\n",
    "df"
   ]
  },
  {
   "cell_type": "code",
   "execution_count": 195,
   "id": "ffdb1d73",
   "metadata": {},
   "outputs": [
    {
     "data": {
      "text/plain": [
       "array([[[2.3, 2.6, 8.6, 0. ],\n",
       "        [4.3, 6.3, 7. , 1.1]],\n",
       "\n",
       "       [[5.1, 7.5, 2.6, 9.6],\n",
       "        [0. , 4.2, 0. , 1.1]]])"
      ]
     },
     "execution_count": 195,
     "metadata": {},
     "output_type": "execute_result"
    }
   ],
   "source": [
    "a3 = np.array([[[2.3,2.6, 8.6,0],[4.3,6.3,7,1.1]],[[5.1,7.5,2.6,9.6],[0,4.2,0,1.1]]])\n",
    "a3"
   ]
  },
  {
   "cell_type": "code",
   "execution_count": 196,
   "id": "a99b602e",
   "metadata": {},
   "outputs": [],
   "source": [
    "#df = pd.DataFrame(a3)"
   ]
  },
  {
   "cell_type": "code",
   "execution_count": 197,
   "id": "1216cd49",
   "metadata": {},
   "outputs": [
    {
     "data": {
      "text/plain": [
       "array([1., 1., 1., 1.])"
      ]
     },
     "execution_count": 197,
     "metadata": {},
     "output_type": "execute_result"
    }
   ],
   "source": [
    "ones = np.ones(4)\n",
    "ones"
   ]
  },
  {
   "cell_type": "code",
   "execution_count": 198,
   "id": "1b03b10b",
   "metadata": {},
   "outputs": [
    {
     "data": {
      "text/plain": [
       "array([[0, 0],\n",
       "       [0, 0],\n",
       "       [0, 0]])"
      ]
     },
     "execution_count": 198,
     "metadata": {},
     "output_type": "execute_result"
    }
   ],
   "source": [
    "zeros = np.zeros((3,2),dtype=int)\n",
    "zeros"
   ]
  },
  {
   "cell_type": "code",
   "execution_count": 199,
   "id": "26b95d94",
   "metadata": {},
   "outputs": [
    {
     "data": {
      "text/plain": [
       "array([0, 2, 4, 6, 8])"
      ]
     },
     "execution_count": 199,
     "metadata": {},
     "output_type": "execute_result"
    }
   ],
   "source": [
    "range_array = np.arange(0,10,2)\n",
    "range_array"
   ]
  },
  {
   "cell_type": "code",
   "execution_count": 200,
   "id": "ba22c17e",
   "metadata": {},
   "outputs": [],
   "source": [
    "range_array = np.arange(0.0,20.0,3.0)"
   ]
  },
  {
   "cell_type": "code",
   "execution_count": 201,
   "id": "56933008",
   "metadata": {},
   "outputs": [
    {
     "data": {
      "text/plain": [
       "array([ 0.,  3.,  6.,  9., 12., 15., 18.])"
      ]
     },
     "execution_count": 201,
     "metadata": {},
     "output_type": "execute_result"
    }
   ],
   "source": [
    "range_array"
   ]
  },
  {
   "cell_type": "code",
   "execution_count": 202,
   "id": "716b2a2b",
   "metadata": {},
   "outputs": [
    {
     "data": {
      "text/plain": [
       "dtype('float64')"
      ]
     },
     "execution_count": 202,
     "metadata": {},
     "output_type": "execute_result"
    }
   ],
   "source": [
    "range_array.dtype"
   ]
  },
  {
   "cell_type": "code",
   "execution_count": 203,
   "id": "330f7afd",
   "metadata": {},
   "outputs": [],
   "source": [
    "random_array = np.random.randint(0,10,size=(2,2))"
   ]
  },
  {
   "cell_type": "code",
   "execution_count": 204,
   "id": "f1b8ca3b",
   "metadata": {},
   "outputs": [
    {
     "data": {
      "text/plain": [
       "array([[0, 8],\n",
       "       [9, 0]])"
      ]
     },
     "execution_count": 204,
     "metadata": {},
     "output_type": "execute_result"
    }
   ],
   "source": [
    "random_array"
   ]
  },
  {
   "cell_type": "code",
   "execution_count": 205,
   "id": "d38195f0",
   "metadata": {},
   "outputs": [
    {
     "data": {
      "text/plain": [
       "array([[0.38984721, 0.09666275, 0.66006903, 0.82659868, 0.87192031],\n",
       "       [0.61856416, 0.41021491, 0.7424822 , 0.42603109, 0.10391714],\n",
       "       [0.22073963, 0.60863739, 0.46840187, 0.91800195, 0.50067678],\n",
       "       [0.16027893, 0.83374265, 0.85562056, 0.94145032, 0.90129686]])"
      ]
     },
     "execution_count": 205,
     "metadata": {},
     "output_type": "execute_result"
    }
   ],
   "source": [
    "random_array_2 = np.random.random((4,5))\n",
    "random_array_2"
   ]
  },
  {
   "cell_type": "code",
   "execution_count": 206,
   "id": "0bd5f1a6",
   "metadata": {},
   "outputs": [
    {
     "data": {
      "text/plain": [
       "array([[0.71993758, 0.73336068, 0.61909963, 0.6149412 , 0.80338325],\n",
       "       [0.27272965, 0.61049591, 0.38634838, 0.4256253 , 0.99852278],\n",
       "       [0.5363435 , 0.56650679, 0.43022677, 0.34123022, 0.80825139]])"
      ]
     },
     "execution_count": 206,
     "metadata": {},
     "output_type": "execute_result"
    }
   ],
   "source": [
    "random_array_3 = np.random.rand(3,5)\n",
    "random_array_3"
   ]
  },
  {
   "cell_type": "code",
   "execution_count": 207,
   "id": "e270ec4d",
   "metadata": {},
   "outputs": [
    {
     "data": {
      "text/plain": [
       "array([0, 8, 9])"
      ]
     },
     "execution_count": 207,
     "metadata": {},
     "output_type": "execute_result"
    }
   ],
   "source": [
    "np.unique(random_array)"
   ]
  },
  {
   "cell_type": "code",
   "execution_count": 208,
   "id": "fe01b64e",
   "metadata": {},
   "outputs": [
    {
     "data": {
      "text/plain": [
       "array([ 2,  4,  5, 67])"
      ]
     },
     "execution_count": 208,
     "metadata": {},
     "output_type": "execute_result"
    }
   ],
   "source": [
    "a1"
   ]
  },
  {
   "cell_type": "code",
   "execution_count": 209,
   "id": "3fe20e8b",
   "metadata": {},
   "outputs": [
    {
     "data": {
      "text/plain": [
       "array([[2, 3, 4, 5],\n",
       "       [1, 3, 4, 5]])"
      ]
     },
     "execution_count": 209,
     "metadata": {},
     "output_type": "execute_result"
    }
   ],
   "source": [
    "a2"
   ]
  },
  {
   "cell_type": "code",
   "execution_count": 210,
   "id": "da4180f0",
   "metadata": {},
   "outputs": [
    {
     "data": {
      "text/plain": [
       "array([[[2.3, 2.6, 8.6, 0. ],\n",
       "        [4.3, 6.3, 7. , 1.1]],\n",
       "\n",
       "       [[5.1, 7.5, 2.6, 9.6],\n",
       "        [0. , 4.2, 0. , 1.1]]])"
      ]
     },
     "execution_count": 210,
     "metadata": {},
     "output_type": "execute_result"
    }
   ],
   "source": [
    "a3"
   ]
  },
  {
   "cell_type": "code",
   "execution_count": 211,
   "id": "8d2311b5",
   "metadata": {},
   "outputs": [
    {
     "data": {
      "text/plain": [
       "array([[2.3, 2.6, 8.6, 0. ],\n",
       "       [4.3, 6.3, 7. , 1.1]])"
      ]
     },
     "execution_count": 211,
     "metadata": {},
     "output_type": "execute_result"
    }
   ],
   "source": [
    "a3[0]"
   ]
  },
  {
   "cell_type": "code",
   "execution_count": 212,
   "id": "3fc24951",
   "metadata": {},
   "outputs": [
    {
     "data": {
      "text/plain": [
       "array([1, 3, 4, 5])"
      ]
     },
     "execution_count": 212,
     "metadata": {},
     "output_type": "execute_result"
    }
   ],
   "source": [
    "a2[1]"
   ]
  },
  {
   "cell_type": "code",
   "execution_count": 213,
   "id": "2e8725af",
   "metadata": {},
   "outputs": [
    {
     "data": {
      "text/plain": [
       "array([4.3, 6.3, 7. , 1.1])"
      ]
     },
     "execution_count": 213,
     "metadata": {},
     "output_type": "execute_result"
    }
   ],
   "source": [
    "a3[0][1]"
   ]
  },
  {
   "cell_type": "code",
   "execution_count": 214,
   "id": "3108e108",
   "metadata": {},
   "outputs": [
    {
     "data": {
      "text/plain": [
       "array([[[2.3, 2.6, 8.6, 0. ],\n",
       "        [4.3, 6.3, 7. , 1.1]],\n",
       "\n",
       "       [[5.1, 7.5, 2.6, 9.6],\n",
       "        [0. , 4.2, 0. , 1.1]]])"
      ]
     },
     "execution_count": 214,
     "metadata": {},
     "output_type": "execute_result"
    }
   ],
   "source": [
    "a3"
   ]
  },
  {
   "cell_type": "code",
   "execution_count": 215,
   "id": "8a8edd4c",
   "metadata": {},
   "outputs": [
    {
     "data": {
      "text/plain": [
       "array([[[2.3, 2.6],\n",
       "        [4.3, 6.3]],\n",
       "\n",
       "       [[5.1, 7.5],\n",
       "        [0. , 4.2]]])"
      ]
     },
     "execution_count": 215,
     "metadata": {},
     "output_type": "execute_result"
    }
   ],
   "source": [
    "a3[:2,:2,:2]"
   ]
  },
  {
   "cell_type": "code",
   "execution_count": 216,
   "id": "c959f64c",
   "metadata": {},
   "outputs": [],
   "source": [
    "a4 = np.random.randint(10,size=(2,3,4,5))"
   ]
  },
  {
   "cell_type": "code",
   "execution_count": 217,
   "id": "cb717993",
   "metadata": {},
   "outputs": [
    {
     "data": {
      "text/plain": [
       "array([[[[7, 1, 0, 0, 6],\n",
       "         [3, 1, 1, 2, 9],\n",
       "         [0, 8, 5, 4, 6],\n",
       "         [5, 2, 9, 5, 8]],\n",
       "\n",
       "        [[4, 4, 5, 6, 6],\n",
       "         [4, 9, 5, 4, 3],\n",
       "         [4, 7, 0, 5, 0],\n",
       "         [4, 2, 3, 2, 2]],\n",
       "\n",
       "        [[5, 1, 7, 9, 5],\n",
       "         [8, 6, 7, 8, 9],\n",
       "         [4, 6, 4, 1, 2],\n",
       "         [1, 7, 0, 8, 4]]],\n",
       "\n",
       "\n",
       "       [[[1, 3, 5, 8, 4],\n",
       "         [9, 1, 5, 0, 3],\n",
       "         [3, 5, 0, 7, 8],\n",
       "         [0, 7, 6, 7, 7]],\n",
       "\n",
       "        [[8, 8, 0, 8, 3],\n",
       "         [1, 2, 7, 7, 5],\n",
       "         [0, 4, 8, 9, 5],\n",
       "         [0, 6, 1, 9, 2]],\n",
       "\n",
       "        [[0, 2, 0, 7, 3],\n",
       "         [8, 8, 9, 4, 1],\n",
       "         [0, 6, 9, 4, 6],\n",
       "         [2, 3, 8, 8, 7]]]])"
      ]
     },
     "execution_count": 217,
     "metadata": {},
     "output_type": "execute_result"
    }
   ],
   "source": [
    "a4"
   ]
  },
  {
   "cell_type": "code",
   "execution_count": 218,
   "id": "89629331",
   "metadata": {},
   "outputs": [
    {
     "data": {
      "text/plain": [
       "(2, 3, 4, 5)"
      ]
     },
     "execution_count": 218,
     "metadata": {},
     "output_type": "execute_result"
    }
   ],
   "source": [
    "a4.shape"
   ]
  },
  {
   "cell_type": "code",
   "execution_count": 219,
   "id": "3921183c",
   "metadata": {},
   "outputs": [
    {
     "data": {
      "text/plain": [
       "4"
      ]
     },
     "execution_count": 219,
     "metadata": {},
     "output_type": "execute_result"
    }
   ],
   "source": [
    "a4.ndim"
   ]
  },
  {
   "cell_type": "code",
   "execution_count": 220,
   "id": "62ff1573",
   "metadata": {},
   "outputs": [
    {
     "data": {
      "text/plain": [
       "array([[[0, 1, 5, 9],\n",
       "        [5, 5, 0, 3],\n",
       "        [7, 7, 4, 0]],\n",
       "\n",
       "       [[5, 5, 0, 6],\n",
       "        [0, 7, 8, 1],\n",
       "        [0, 9, 9, 8]]])"
      ]
     },
     "execution_count": 220,
     "metadata": {},
     "output_type": "execute_result"
    }
   ],
   "source": [
    "a4[:,:,:,2]"
   ]
  },
  {
   "cell_type": "code",
   "execution_count": 221,
   "id": "e61010ab",
   "metadata": {},
   "outputs": [
    {
     "data": {
      "text/plain": [
       "array([ 2,  4,  5, 67])"
      ]
     },
     "execution_count": 221,
     "metadata": {},
     "output_type": "execute_result"
    }
   ],
   "source": [
    "a1"
   ]
  },
  {
   "cell_type": "code",
   "execution_count": 222,
   "id": "8dcd494d",
   "metadata": {},
   "outputs": [
    {
     "data": {
      "text/plain": [
       "array([ 3.,  5.,  6., 68.])"
      ]
     },
     "execution_count": 222,
     "metadata": {},
     "output_type": "execute_result"
    }
   ],
   "source": [
    "a1+ones"
   ]
  },
  {
   "cell_type": "code",
   "execution_count": 223,
   "id": "ee011a3b",
   "metadata": {},
   "outputs": [
    {
     "data": {
      "text/plain": [
       "array([[  4,  12,  20, 335],\n",
       "       [  2,  12,  20, 335]])"
      ]
     },
     "execution_count": 223,
     "metadata": {},
     "output_type": "execute_result"
    }
   ],
   "source": [
    "a1*a2"
   ]
  },
  {
   "cell_type": "code",
   "execution_count": 224,
   "id": "310b8222",
   "metadata": {},
   "outputs": [
    {
     "data": {
      "text/plain": [
       "array([[[2.3, 2.6, 8.6, 0. ],\n",
       "        [4.3, 6.3, 7. , 1.1]],\n",
       "\n",
       "       [[5.1, 7.5, 2.6, 9.6],\n",
       "        [0. , 4.2, 0. , 1.1]]])"
      ]
     },
     "execution_count": 224,
     "metadata": {},
     "output_type": "execute_result"
    }
   ],
   "source": [
    "a3"
   ]
  },
  {
   "cell_type": "code",
   "execution_count": 225,
   "id": "8dc80df5",
   "metadata": {},
   "outputs": [
    {
     "data": {
      "text/plain": [
       "array([[[ 4.6,  7.8, 34.4,  0. ],\n",
       "        [ 4.3, 18.9, 28. ,  5.5]],\n",
       "\n",
       "       [[10.2, 22.5, 10.4, 48. ],\n",
       "        [ 0. , 12.6,  0. ,  5.5]]])"
      ]
     },
     "execution_count": 225,
     "metadata": {},
     "output_type": "execute_result"
    }
   ],
   "source": [
    "a2*a3"
   ]
  },
  {
   "cell_type": "code",
   "execution_count": 226,
   "id": "a6acdab5",
   "metadata": {},
   "outputs": [
    {
     "data": {
      "text/plain": [
       "array([[2, 3, 4, 5],\n",
       "       [1, 3, 4, 5]])"
      ]
     },
     "execution_count": 226,
     "metadata": {},
     "output_type": "execute_result"
    }
   ],
   "source": [
    "a2"
   ]
  },
  {
   "cell_type": "code",
   "execution_count": 227,
   "id": "738f6c81",
   "metadata": {},
   "outputs": [
    {
     "data": {
      "text/plain": [
       "array([[[[7, 1, 0, 0, 6],\n",
       "         [3, 1, 1, 2, 9],\n",
       "         [0, 8, 5, 4, 6],\n",
       "         [5, 2, 9, 5, 8]],\n",
       "\n",
       "        [[4, 4, 5, 6, 6],\n",
       "         [4, 9, 5, 4, 3],\n",
       "         [4, 7, 0, 5, 0],\n",
       "         [4, 2, 3, 2, 2]],\n",
       "\n",
       "        [[5, 1, 7, 9, 5],\n",
       "         [8, 6, 7, 8, 9],\n",
       "         [4, 6, 4, 1, 2],\n",
       "         [1, 7, 0, 8, 4]]],\n",
       "\n",
       "\n",
       "       [[[1, 3, 5, 8, 4],\n",
       "         [9, 1, 5, 0, 3],\n",
       "         [3, 5, 0, 7, 8],\n",
       "         [0, 7, 6, 7, 7]],\n",
       "\n",
       "        [[8, 8, 0, 8, 3],\n",
       "         [1, 2, 7, 7, 5],\n",
       "         [0, 4, 8, 9, 5],\n",
       "         [0, 6, 1, 9, 2]],\n",
       "\n",
       "        [[0, 2, 0, 7, 3],\n",
       "         [8, 8, 9, 4, 1],\n",
       "         [0, 6, 9, 4, 6],\n",
       "         [2, 3, 8, 8, 7]]]])"
      ]
     },
     "execution_count": 227,
     "metadata": {},
     "output_type": "execute_result"
    }
   ],
   "source": [
    "a4"
   ]
  },
  {
   "cell_type": "code",
   "execution_count": 228,
   "id": "9f966a48",
   "metadata": {},
   "outputs": [],
   "source": [
    "#a2*a4"
   ]
  },
  {
   "cell_type": "code",
   "execution_count": 229,
   "id": "fa8d4f34",
   "metadata": {},
   "outputs": [],
   "source": [
    "#a2.reshape(4)"
   ]
  },
  {
   "cell_type": "code",
   "execution_count": 230,
   "id": "5d6e2465",
   "metadata": {},
   "outputs": [
    {
     "data": {
      "text/plain": [
       "array([[ 4,  9, 16, 25],\n",
       "       [ 1,  9, 16, 25]], dtype=int32)"
      ]
     },
     "execution_count": 230,
     "metadata": {},
     "output_type": "execute_result"
    }
   ],
   "source": [
    "a2 ** 2"
   ]
  },
  {
   "cell_type": "code",
   "execution_count": 231,
   "id": "8ffc713e",
   "metadata": {},
   "outputs": [
    {
     "data": {
      "text/plain": [
       "array([[ 4,  9, 16, 25],\n",
       "       [ 1,  9, 16, 25]], dtype=int32)"
      ]
     },
     "execution_count": 231,
     "metadata": {},
     "output_type": "execute_result"
    }
   ],
   "source": [
    "np.square(a2)"
   ]
  },
  {
   "cell_type": "code",
   "execution_count": 232,
   "id": "a33f9c3b",
   "metadata": {},
   "outputs": [
    {
     "data": {
      "text/plain": [
       "0.6931471805599453"
      ]
     },
     "execution_count": 232,
     "metadata": {},
     "output_type": "execute_result"
    }
   ],
   "source": [
    "np.log(2)"
   ]
  },
  {
   "cell_type": "code",
   "execution_count": 233,
   "id": "fab4ca0a",
   "metadata": {},
   "outputs": [
    {
     "data": {
      "text/plain": [
       "array([[0.69314718, 1.09861229, 1.38629436, 1.60943791],\n",
       "       [0.        , 1.09861229, 1.38629436, 1.60943791]])"
      ]
     },
     "execution_count": 233,
     "metadata": {},
     "output_type": "execute_result"
    }
   ],
   "source": [
    "np.log(a2)"
   ]
  },
  {
   "cell_type": "code",
   "execution_count": 234,
   "id": "79a0b606",
   "metadata": {},
   "outputs": [
    {
     "data": {
      "text/plain": [
       "array([[  7.3890561 ,  20.08553692,  54.59815003, 148.4131591 ],\n",
       "       [  2.71828183,  20.08553692,  54.59815003, 148.4131591 ]])"
      ]
     },
     "execution_count": 234,
     "metadata": {},
     "output_type": "execute_result"
    }
   ],
   "source": [
    "np.exp(a2)"
   ]
  },
  {
   "cell_type": "code",
   "execution_count": 235,
   "id": "ef21a78a",
   "metadata": {},
   "outputs": [],
   "source": [
    "massive_array = np.random.random(100000)"
   ]
  },
  {
   "cell_type": "code",
   "execution_count": 236,
   "id": "a27fab3a",
   "metadata": {},
   "outputs": [
    {
     "data": {
      "text/plain": [
       "array([0.44906645, 0.54805139, 0.67116543, 0.65593691, 0.66697026,\n",
       "       0.44365967, 0.0431454 , 0.27893528, 0.18086912, 0.85815719])"
      ]
     },
     "execution_count": 236,
     "metadata": {},
     "output_type": "execute_result"
    }
   ],
   "source": [
    "massive_array[:10]"
   ]
  },
  {
   "cell_type": "code",
   "execution_count": 237,
   "id": "bae3d31b",
   "metadata": {},
   "outputs": [
    {
     "name": "stdout",
     "output_type": "stream",
     "text": [
      "8.33 ms ± 794 µs per loop (mean ± std. dev. of 7 runs, 100 loops each)\n",
      "42.9 µs ± 650 ns per loop (mean ± std. dev. of 7 runs, 10000 loops each)\n"
     ]
    }
   ],
   "source": [
    "%timeit sum(massive_array)\n",
    "%timeit np.sum(massive_array)"
   ]
  },
  {
   "cell_type": "code",
   "execution_count": 238,
   "id": "508d7bba",
   "metadata": {},
   "outputs": [
    {
     "data": {
      "text/plain": [
       "5"
      ]
     },
     "execution_count": 238,
     "metadata": {},
     "output_type": "execute_result"
    }
   ],
   "source": [
    "np.max(a2)"
   ]
  },
  {
   "cell_type": "code",
   "execution_count": 239,
   "id": "b2aa4550",
   "metadata": {},
   "outputs": [
    {
     "data": {
      "text/plain": [
       "1"
      ]
     },
     "execution_count": 239,
     "metadata": {},
     "output_type": "execute_result"
    }
   ],
   "source": [
    "np.min(a2)"
   ]
  },
  {
   "cell_type": "code",
   "execution_count": 240,
   "id": "2cc1fd95",
   "metadata": {},
   "outputs": [
    {
     "data": {
      "text/plain": [
       "array([[2, 3, 4, 5],\n",
       "       [1, 3, 4, 5]])"
      ]
     },
     "execution_count": 240,
     "metadata": {},
     "output_type": "execute_result"
    }
   ],
   "source": [
    "a2"
   ]
  },
  {
   "cell_type": "code",
   "execution_count": 241,
   "id": "ecfd7884",
   "metadata": {},
   "outputs": [
    {
     "data": {
      "text/plain": [
       "1.3169567191065923"
      ]
     },
     "execution_count": 241,
     "metadata": {},
     "output_type": "execute_result"
    }
   ],
   "source": [
    "np.std(a2)"
   ]
  },
  {
   "cell_type": "code",
   "execution_count": 242,
   "id": "07f15b0c",
   "metadata": {},
   "outputs": [
    {
     "data": {
      "text/plain": [
       "1.3169567191065923"
      ]
     },
     "execution_count": 242,
     "metadata": {},
     "output_type": "execute_result"
    }
   ],
   "source": [
    "np.std(a2)"
   ]
  },
  {
   "cell_type": "code",
   "execution_count": 243,
   "id": "aaa72f43",
   "metadata": {},
   "outputs": [
    {
     "data": {
      "text/plain": [
       "array([0.5, 0. , 0. , 0. ])"
      ]
     },
     "execution_count": 243,
     "metadata": {},
     "output_type": "execute_result"
    }
   ],
   "source": [
    "np.std(a2,axis=0)"
   ]
  },
  {
   "cell_type": "code",
   "execution_count": 244,
   "id": "ddd1fa78",
   "metadata": {},
   "outputs": [
    {
     "data": {
      "text/plain": [
       "array([1.11803399, 1.47901995])"
      ]
     },
     "execution_count": 244,
     "metadata": {},
     "output_type": "execute_result"
    }
   ],
   "source": [
    "np.std(a2,axis=1)"
   ]
  },
  {
   "cell_type": "code",
   "execution_count": 245,
   "id": "f020f98c",
   "metadata": {},
   "outputs": [
    {
     "data": {
      "text/plain": [
       "1.734375"
      ]
     },
     "execution_count": 245,
     "metadata": {},
     "output_type": "execute_result"
    }
   ],
   "source": [
    "np.var(a2)"
   ]
  },
  {
   "cell_type": "code",
   "execution_count": 246,
   "id": "af785483",
   "metadata": {},
   "outputs": [
    {
     "data": {
      "text/plain": [
       "array([[2, 3, 4, 5],\n",
       "       [1, 3, 4, 5]])"
      ]
     },
     "execution_count": 246,
     "metadata": {},
     "output_type": "execute_result"
    }
   ],
   "source": [
    "a2"
   ]
  },
  {
   "cell_type": "code",
   "execution_count": 247,
   "id": "dd072312",
   "metadata": {},
   "outputs": [
    {
     "data": {
      "text/plain": [
       "array([[[[7, 1, 0, 0, 6],\n",
       "         [3, 1, 1, 2, 9],\n",
       "         [0, 8, 5, 4, 6],\n",
       "         [5, 2, 9, 5, 8]],\n",
       "\n",
       "        [[4, 4, 5, 6, 6],\n",
       "         [4, 9, 5, 4, 3],\n",
       "         [4, 7, 0, 5, 0],\n",
       "         [4, 2, 3, 2, 2]],\n",
       "\n",
       "        [[5, 1, 7, 9, 5],\n",
       "         [8, 6, 7, 8, 9],\n",
       "         [4, 6, 4, 1, 2],\n",
       "         [1, 7, 0, 8, 4]]],\n",
       "\n",
       "\n",
       "       [[[1, 3, 5, 8, 4],\n",
       "         [9, 1, 5, 0, 3],\n",
       "         [3, 5, 0, 7, 8],\n",
       "         [0, 7, 6, 7, 7]],\n",
       "\n",
       "        [[8, 8, 0, 8, 3],\n",
       "         [1, 2, 7, 7, 5],\n",
       "         [0, 4, 8, 9, 5],\n",
       "         [0, 6, 1, 9, 2]],\n",
       "\n",
       "        [[0, 2, 0, 7, 3],\n",
       "         [8, 8, 9, 4, 1],\n",
       "         [0, 6, 9, 4, 6],\n",
       "         [2, 3, 8, 8, 7]]]])"
      ]
     },
     "execution_count": 247,
     "metadata": {},
     "output_type": "execute_result"
    }
   ],
   "source": [
    "a4"
   ]
  },
  {
   "cell_type": "code",
   "execution_count": 248,
   "id": "49351f96",
   "metadata": {},
   "outputs": [
    {
     "data": {
      "text/plain": [
       "(2, 4)"
      ]
     },
     "execution_count": 248,
     "metadata": {},
     "output_type": "execute_result"
    }
   ],
   "source": [
    "a2.shape"
   ]
  },
  {
   "cell_type": "code",
   "execution_count": 249,
   "id": "650bbd32",
   "metadata": {},
   "outputs": [
    {
     "data": {
      "text/plain": [
       "(2, 3, 4, 5)"
      ]
     },
     "execution_count": 249,
     "metadata": {},
     "output_type": "execute_result"
    }
   ],
   "source": [
    "a4.shape"
   ]
  },
  {
   "cell_type": "code",
   "execution_count": 250,
   "id": "b11fb976",
   "metadata": {},
   "outputs": [],
   "source": [
    "a2_reshape = a2.reshape(2,4,1,1)"
   ]
  },
  {
   "cell_type": "code",
   "execution_count": 251,
   "id": "4210747e",
   "metadata": {},
   "outputs": [
    {
     "data": {
      "text/plain": [
       "array([[[[2]],\n",
       "\n",
       "        [[3]],\n",
       "\n",
       "        [[4]],\n",
       "\n",
       "        [[5]]],\n",
       "\n",
       "\n",
       "       [[[1]],\n",
       "\n",
       "        [[3]],\n",
       "\n",
       "        [[4]],\n",
       "\n",
       "        [[5]]]])"
      ]
     },
     "execution_count": 251,
     "metadata": {},
     "output_type": "execute_result"
    }
   ],
   "source": [
    "a2_reshape"
   ]
  },
  {
   "cell_type": "code",
   "execution_count": 252,
   "id": "b0bd3ab7",
   "metadata": {},
   "outputs": [],
   "source": [
    "#a2_reshape * a4"
   ]
  },
  {
   "cell_type": "code",
   "execution_count": 253,
   "id": "2822d4fa",
   "metadata": {},
   "outputs": [
    {
     "data": {
      "text/plain": [
       "array([[2, 1],\n",
       "       [3, 3],\n",
       "       [4, 4],\n",
       "       [5, 5]])"
      ]
     },
     "execution_count": 253,
     "metadata": {},
     "output_type": "execute_result"
    }
   ],
   "source": [
    "a2.T"
   ]
  },
  {
   "cell_type": "code",
   "execution_count": 254,
   "id": "78f48852",
   "metadata": {},
   "outputs": [],
   "source": [
    "a2_trnspose = a2.T"
   ]
  },
  {
   "cell_type": "code",
   "execution_count": 255,
   "id": "1a237286",
   "metadata": {},
   "outputs": [],
   "source": [
    "a3 = np.random.randint(10,size = (2,3))"
   ]
  },
  {
   "cell_type": "code",
   "execution_count": 256,
   "id": "10a305dd",
   "metadata": {},
   "outputs": [
    {
     "data": {
      "text/plain": [
       "array([[8, 8, 9],\n",
       "       [1, 0, 2]])"
      ]
     },
     "execution_count": 256,
     "metadata": {},
     "output_type": "execute_result"
    }
   ],
   "source": [
    "a3"
   ]
  },
  {
   "cell_type": "code",
   "execution_count": 257,
   "id": "f17b2c4a",
   "metadata": {},
   "outputs": [],
   "source": [
    "a3_reshape = a3.reshape(2,3,1,1)"
   ]
  },
  {
   "cell_type": "code",
   "execution_count": 258,
   "id": "fa8bfa5d",
   "metadata": {},
   "outputs": [
    {
     "data": {
      "text/plain": [
       "array([[[[56,  8,  0,  0, 48],\n",
       "         [24,  8,  8, 16, 72],\n",
       "         [ 0, 64, 40, 32, 48],\n",
       "         [40, 16, 72, 40, 64]],\n",
       "\n",
       "        [[32, 32, 40, 48, 48],\n",
       "         [32, 72, 40, 32, 24],\n",
       "         [32, 56,  0, 40,  0],\n",
       "         [32, 16, 24, 16, 16]],\n",
       "\n",
       "        [[45,  9, 63, 81, 45],\n",
       "         [72, 54, 63, 72, 81],\n",
       "         [36, 54, 36,  9, 18],\n",
       "         [ 9, 63,  0, 72, 36]]],\n",
       "\n",
       "\n",
       "       [[[ 1,  3,  5,  8,  4],\n",
       "         [ 9,  1,  5,  0,  3],\n",
       "         [ 3,  5,  0,  7,  8],\n",
       "         [ 0,  7,  6,  7,  7]],\n",
       "\n",
       "        [[ 0,  0,  0,  0,  0],\n",
       "         [ 0,  0,  0,  0,  0],\n",
       "         [ 0,  0,  0,  0,  0],\n",
       "         [ 0,  0,  0,  0,  0]],\n",
       "\n",
       "        [[ 0,  4,  0, 14,  6],\n",
       "         [16, 16, 18,  8,  2],\n",
       "         [ 0, 12, 18,  8, 12],\n",
       "         [ 4,  6, 16, 16, 14]]]])"
      ]
     },
     "execution_count": 258,
     "metadata": {},
     "output_type": "execute_result"
    }
   ],
   "source": [
    "a3_reshape * a4"
   ]
  },
  {
   "cell_type": "code",
   "execution_count": 259,
   "id": "f8b46d54",
   "metadata": {},
   "outputs": [],
   "source": [
    "mat1 = np.random.randint(10, size=(2,3))\n",
    "mat2 = np.random.randint(10, size=(2,3))"
   ]
  },
  {
   "cell_type": "code",
   "execution_count": 260,
   "id": "555b8eb1",
   "metadata": {},
   "outputs": [
    {
     "data": {
      "text/plain": [
       "(array([[5, 5, 1],\n",
       "        [9, 6, 0]]),\n",
       " array([[1, 9, 3],\n",
       "        [0, 2, 3]]))"
      ]
     },
     "execution_count": 260,
     "metadata": {},
     "output_type": "execute_result"
    }
   ],
   "source": [
    "mat1,mat2"
   ]
  },
  {
   "cell_type": "code",
   "execution_count": 261,
   "id": "37575710",
   "metadata": {},
   "outputs": [
    {
     "ename": "ValueError",
     "evalue": "shapes (2,3) and (2,3) not aligned: 3 (dim 1) != 2 (dim 0)",
     "output_type": "error",
     "traceback": [
      "\u001b[1;31m---------------------------------------------------------------------------\u001b[0m",
      "\u001b[1;31mValueError\u001b[0m                                Traceback (most recent call last)",
      "\u001b[1;32m~\\AppData\\Local\\Temp/ipykernel_10984/2401122290.py\u001b[0m in \u001b[0;36m<module>\u001b[1;34m\u001b[0m\n\u001b[1;32m----> 1\u001b[1;33m \u001b[0mnp\u001b[0m\u001b[1;33m.\u001b[0m\u001b[0mdot\u001b[0m\u001b[1;33m(\u001b[0m\u001b[0mmat1\u001b[0m\u001b[1;33m,\u001b[0m\u001b[0mmat2\u001b[0m\u001b[1;33m)\u001b[0m\u001b[1;33m\u001b[0m\u001b[1;33m\u001b[0m\u001b[0m\n\u001b[0m",
      "\u001b[1;32m<__array_function__ internals>\u001b[0m in \u001b[0;36mdot\u001b[1;34m(*args, **kwargs)\u001b[0m\n",
      "\u001b[1;31mValueError\u001b[0m: shapes (2,3) and (2,3) not aligned: 3 (dim 1) != 2 (dim 0)"
     ]
    }
   ],
   "source": [
    "np.dot(mat1,mat2)"
   ]
  },
  {
   "cell_type": "code",
   "execution_count": 262,
   "id": "dabad596",
   "metadata": {},
   "outputs": [],
   "source": [
    "mat3 = np.dot(mat1,mat2.T)"
   ]
  },
  {
   "cell_type": "code",
   "execution_count": 263,
   "id": "fd91ca8a",
   "metadata": {},
   "outputs": [
    {
     "data": {
      "text/plain": [
       "array([[53, 13],\n",
       "       [63, 12]])"
      ]
     },
     "execution_count": 263,
     "metadata": {},
     "output_type": "execute_result"
    }
   ],
   "source": [
    "mat3"
   ]
  },
  {
   "cell_type": "code",
   "execution_count": 264,
   "id": "73b9e3a6",
   "metadata": {},
   "outputs": [],
   "source": [
    "np.random.seed(0)"
   ]
  },
  {
   "cell_type": "code",
   "execution_count": 265,
   "id": "c724d7a0",
   "metadata": {},
   "outputs": [
    {
     "data": {
      "text/plain": [
       "array([[44, 47, 64],\n",
       "       [67, 67,  9],\n",
       "       [83, 21, 36],\n",
       "       [87, 70, 88],\n",
       "       [88, 12, 58]])"
      ]
     },
     "execution_count": 265,
     "metadata": {},
     "output_type": "execute_result"
    }
   ],
   "source": [
    "sales_amounts = np.random.randint(100,size=(5,3))\n",
    "sales_amounts"
   ]
  },
  {
   "cell_type": "code",
   "execution_count": 266,
   "id": "be18dee4",
   "metadata": {},
   "outputs": [],
   "source": [
    "weekly_sales = pd.DataFrame(sales_amounts,index = ['Monday','Tuesday','Wednesday','Thursday','Friday'],\n",
    "                            columns = ['A butter','B Butter','C Butter'])"
   ]
  },
  {
   "cell_type": "code",
   "execution_count": 267,
   "id": "b5c43a35",
   "metadata": {},
   "outputs": [
    {
     "data": {
      "text/html": [
       "<div>\n",
       "<style scoped>\n",
       "    .dataframe tbody tr th:only-of-type {\n",
       "        vertical-align: middle;\n",
       "    }\n",
       "\n",
       "    .dataframe tbody tr th {\n",
       "        vertical-align: top;\n",
       "    }\n",
       "\n",
       "    .dataframe thead th {\n",
       "        text-align: right;\n",
       "    }\n",
       "</style>\n",
       "<table border=\"1\" class=\"dataframe\">\n",
       "  <thead>\n",
       "    <tr style=\"text-align: right;\">\n",
       "      <th></th>\n",
       "      <th>A butter</th>\n",
       "      <th>B Butter</th>\n",
       "      <th>C Butter</th>\n",
       "    </tr>\n",
       "  </thead>\n",
       "  <tbody>\n",
       "    <tr>\n",
       "      <th>Monday</th>\n",
       "      <td>44</td>\n",
       "      <td>47</td>\n",
       "      <td>64</td>\n",
       "    </tr>\n",
       "    <tr>\n",
       "      <th>Tuesday</th>\n",
       "      <td>67</td>\n",
       "      <td>67</td>\n",
       "      <td>9</td>\n",
       "    </tr>\n",
       "    <tr>\n",
       "      <th>Wednesday</th>\n",
       "      <td>83</td>\n",
       "      <td>21</td>\n",
       "      <td>36</td>\n",
       "    </tr>\n",
       "    <tr>\n",
       "      <th>Thursday</th>\n",
       "      <td>87</td>\n",
       "      <td>70</td>\n",
       "      <td>88</td>\n",
       "    </tr>\n",
       "    <tr>\n",
       "      <th>Friday</th>\n",
       "      <td>88</td>\n",
       "      <td>12</td>\n",
       "      <td>58</td>\n",
       "    </tr>\n",
       "  </tbody>\n",
       "</table>\n",
       "</div>"
      ],
      "text/plain": [
       "           A butter  B Butter  C Butter\n",
       "Monday           44        47        64\n",
       "Tuesday          67        67         9\n",
       "Wednesday        83        21        36\n",
       "Thursday         87        70        88\n",
       "Friday           88        12        58"
      ]
     },
     "execution_count": 267,
     "metadata": {},
     "output_type": "execute_result"
    }
   ],
   "source": [
    "weekly_sales"
   ]
  },
  {
   "cell_type": "code",
   "execution_count": 268,
   "id": "0c6fabca",
   "metadata": {},
   "outputs": [],
   "source": [
    "prices = np.array([10,8,12])"
   ]
  },
  {
   "cell_type": "code",
   "execution_count": 269,
   "id": "f008e01b",
   "metadata": {},
   "outputs": [
    {
     "data": {
      "text/plain": [
       "array([10,  8, 12])"
      ]
     },
     "execution_count": 269,
     "metadata": {},
     "output_type": "execute_result"
    }
   ],
   "source": [
    "prices"
   ]
  },
  {
   "cell_type": "code",
   "execution_count": 270,
   "id": "5457ab4a",
   "metadata": {},
   "outputs": [
    {
     "data": {
      "text/plain": [
       "(3,)"
      ]
     },
     "execution_count": 270,
     "metadata": {},
     "output_type": "execute_result"
    }
   ],
   "source": [
    "prices.shape"
   ]
  },
  {
   "cell_type": "code",
   "execution_count": 271,
   "id": "cfc9fa11",
   "metadata": {},
   "outputs": [],
   "source": [
    "butter_prices = pd.DataFrame(prices.reshape(1,3),index=['Prices'],columns = ['A butter','B Butter','C Butter'])"
   ]
  },
  {
   "cell_type": "code",
   "execution_count": 272,
   "id": "0e569dc9",
   "metadata": {},
   "outputs": [
    {
     "data": {
      "text/html": [
       "<div>\n",
       "<style scoped>\n",
       "    .dataframe tbody tr th:only-of-type {\n",
       "        vertical-align: middle;\n",
       "    }\n",
       "\n",
       "    .dataframe tbody tr th {\n",
       "        vertical-align: top;\n",
       "    }\n",
       "\n",
       "    .dataframe thead th {\n",
       "        text-align: right;\n",
       "    }\n",
       "</style>\n",
       "<table border=\"1\" class=\"dataframe\">\n",
       "  <thead>\n",
       "    <tr style=\"text-align: right;\">\n",
       "      <th></th>\n",
       "      <th>A butter</th>\n",
       "      <th>B Butter</th>\n",
       "      <th>C Butter</th>\n",
       "    </tr>\n",
       "  </thead>\n",
       "  <tbody>\n",
       "    <tr>\n",
       "      <th>Prices</th>\n",
       "      <td>10</td>\n",
       "      <td>8</td>\n",
       "      <td>12</td>\n",
       "    </tr>\n",
       "  </tbody>\n",
       "</table>\n",
       "</div>"
      ],
      "text/plain": [
       "        A butter  B Butter  C Butter\n",
       "Prices        10         8        12"
      ]
     },
     "execution_count": 272,
     "metadata": {},
     "output_type": "execute_result"
    }
   ],
   "source": [
    "butter_prices"
   ]
  },
  {
   "cell_type": "code",
   "execution_count": 273,
   "id": "91055e86",
   "metadata": {},
   "outputs": [
    {
     "ename": "ValueError",
     "evalue": "shapes (5,3) and (1,3) not aligned: 3 (dim 1) != 1 (dim 0)",
     "output_type": "error",
     "traceback": [
      "\u001b[1;31m---------------------------------------------------------------------------\u001b[0m",
      "\u001b[1;31mValueError\u001b[0m                                Traceback (most recent call last)",
      "\u001b[1;32m~\\AppData\\Local\\Temp/ipykernel_10984/1585007014.py\u001b[0m in \u001b[0;36m<module>\u001b[1;34m\u001b[0m\n\u001b[1;32m----> 1\u001b[1;33m \u001b[0mtotal_sales\u001b[0m \u001b[1;33m=\u001b[0m \u001b[0mnp\u001b[0m\u001b[1;33m.\u001b[0m\u001b[0mdot\u001b[0m\u001b[1;33m(\u001b[0m\u001b[0mweekly_sales\u001b[0m\u001b[1;33m,\u001b[0m\u001b[0mbutter_prices\u001b[0m\u001b[1;33m)\u001b[0m\u001b[1;33m\u001b[0m\u001b[1;33m\u001b[0m\u001b[0m\n\u001b[0m",
      "\u001b[1;32m<__array_function__ internals>\u001b[0m in \u001b[0;36mdot\u001b[1;34m(*args, **kwargs)\u001b[0m\n",
      "\u001b[1;31mValueError\u001b[0m: shapes (5,3) and (1,3) not aligned: 3 (dim 1) != 1 (dim 0)"
     ]
    }
   ],
   "source": [
    "total_sales = np.dot(weekly_sales,butter_prices)"
   ]
  },
  {
   "cell_type": "code",
   "execution_count": 274,
   "id": "fd1a895f",
   "metadata": {},
   "outputs": [],
   "source": [
    "total_sales = np.dot(weekly_sales,butter_prices.T)"
   ]
  },
  {
   "cell_type": "code",
   "execution_count": 275,
   "id": "87f5e93f",
   "metadata": {},
   "outputs": [
    {
     "data": {
      "text/plain": [
       "array([[1584],\n",
       "       [1314],\n",
       "       [1430],\n",
       "       [2486],\n",
       "       [1672]])"
      ]
     },
     "execution_count": 275,
     "metadata": {},
     "output_type": "execute_result"
    }
   ],
   "source": [
    "total_sales"
   ]
  },
  {
   "cell_type": "code",
   "execution_count": 276,
   "id": "43636908",
   "metadata": {},
   "outputs": [
    {
     "data": {
      "text/html": [
       "<div>\n",
       "<style scoped>\n",
       "    .dataframe tbody tr th:only-of-type {\n",
       "        vertical-align: middle;\n",
       "    }\n",
       "\n",
       "    .dataframe tbody tr th {\n",
       "        vertical-align: top;\n",
       "    }\n",
       "\n",
       "    .dataframe thead th {\n",
       "        text-align: right;\n",
       "    }\n",
       "</style>\n",
       "<table border=\"1\" class=\"dataframe\">\n",
       "  <thead>\n",
       "    <tr style=\"text-align: right;\">\n",
       "      <th></th>\n",
       "      <th>A butter</th>\n",
       "      <th>B Butter</th>\n",
       "      <th>C Butter</th>\n",
       "    </tr>\n",
       "  </thead>\n",
       "  <tbody>\n",
       "    <tr>\n",
       "      <th>Prices</th>\n",
       "      <td>10</td>\n",
       "      <td>8</td>\n",
       "      <td>12</td>\n",
       "    </tr>\n",
       "  </tbody>\n",
       "</table>\n",
       "</div>"
      ],
      "text/plain": [
       "        A butter  B Butter  C Butter\n",
       "Prices        10         8        12"
      ]
     },
     "execution_count": 276,
     "metadata": {},
     "output_type": "execute_result"
    }
   ],
   "source": [
    "butter_prices"
   ]
  },
  {
   "cell_type": "code",
   "execution_count": 277,
   "id": "73658e08",
   "metadata": {},
   "outputs": [
    {
     "data": {
      "text/html": [
       "<div>\n",
       "<style scoped>\n",
       "    .dataframe tbody tr th:only-of-type {\n",
       "        vertical-align: middle;\n",
       "    }\n",
       "\n",
       "    .dataframe tbody tr th {\n",
       "        vertical-align: top;\n",
       "    }\n",
       "\n",
       "    .dataframe thead th {\n",
       "        text-align: right;\n",
       "    }\n",
       "</style>\n",
       "<table border=\"1\" class=\"dataframe\">\n",
       "  <thead>\n",
       "    <tr style=\"text-align: right;\">\n",
       "      <th></th>\n",
       "      <th>A butter</th>\n",
       "      <th>B Butter</th>\n",
       "      <th>C Butter</th>\n",
       "    </tr>\n",
       "  </thead>\n",
       "  <tbody>\n",
       "    <tr>\n",
       "      <th>Monday</th>\n",
       "      <td>44</td>\n",
       "      <td>47</td>\n",
       "      <td>64</td>\n",
       "    </tr>\n",
       "    <tr>\n",
       "      <th>Tuesday</th>\n",
       "      <td>67</td>\n",
       "      <td>67</td>\n",
       "      <td>9</td>\n",
       "    </tr>\n",
       "    <tr>\n",
       "      <th>Wednesday</th>\n",
       "      <td>83</td>\n",
       "      <td>21</td>\n",
       "      <td>36</td>\n",
       "    </tr>\n",
       "    <tr>\n",
       "      <th>Thursday</th>\n",
       "      <td>87</td>\n",
       "      <td>70</td>\n",
       "      <td>88</td>\n",
       "    </tr>\n",
       "    <tr>\n",
       "      <th>Friday</th>\n",
       "      <td>88</td>\n",
       "      <td>12</td>\n",
       "      <td>58</td>\n",
       "    </tr>\n",
       "  </tbody>\n",
       "</table>\n",
       "</div>"
      ],
      "text/plain": [
       "           A butter  B Butter  C Butter\n",
       "Monday           44        47        64\n",
       "Tuesday          67        67         9\n",
       "Wednesday        83        21        36\n",
       "Thursday         87        70        88\n",
       "Friday           88        12        58"
      ]
     },
     "execution_count": 277,
     "metadata": {},
     "output_type": "execute_result"
    }
   ],
   "source": [
    "weekly_sales"
   ]
  },
  {
   "cell_type": "code",
   "execution_count": 278,
   "id": "896caf9f",
   "metadata": {},
   "outputs": [],
   "source": [
    "daily_sales = weekly_sales.dot(butter_prices.T)"
   ]
  },
  {
   "cell_type": "code",
   "execution_count": 279,
   "id": "d9ecdcbe",
   "metadata": {},
   "outputs": [
    {
     "data": {
      "text/html": [
       "<div>\n",
       "<style scoped>\n",
       "    .dataframe tbody tr th:only-of-type {\n",
       "        vertical-align: middle;\n",
       "    }\n",
       "\n",
       "    .dataframe tbody tr th {\n",
       "        vertical-align: top;\n",
       "    }\n",
       "\n",
       "    .dataframe thead th {\n",
       "        text-align: right;\n",
       "    }\n",
       "</style>\n",
       "<table border=\"1\" class=\"dataframe\">\n",
       "  <thead>\n",
       "    <tr style=\"text-align: right;\">\n",
       "      <th></th>\n",
       "      <th>Prices</th>\n",
       "    </tr>\n",
       "  </thead>\n",
       "  <tbody>\n",
       "    <tr>\n",
       "      <th>Monday</th>\n",
       "      <td>1584</td>\n",
       "    </tr>\n",
       "    <tr>\n",
       "      <th>Tuesday</th>\n",
       "      <td>1314</td>\n",
       "    </tr>\n",
       "    <tr>\n",
       "      <th>Wednesday</th>\n",
       "      <td>1430</td>\n",
       "    </tr>\n",
       "    <tr>\n",
       "      <th>Thursday</th>\n",
       "      <td>2486</td>\n",
       "    </tr>\n",
       "    <tr>\n",
       "      <th>Friday</th>\n",
       "      <td>1672</td>\n",
       "    </tr>\n",
       "  </tbody>\n",
       "</table>\n",
       "</div>"
      ],
      "text/plain": [
       "           Prices\n",
       "Monday       1584\n",
       "Tuesday      1314\n",
       "Wednesday    1430\n",
       "Thursday     2486\n",
       "Friday       1672"
      ]
     },
     "execution_count": 279,
     "metadata": {},
     "output_type": "execute_result"
    }
   ],
   "source": [
    "daily_sales"
   ]
  },
  {
   "cell_type": "code",
   "execution_count": 280,
   "id": "f3a3b530",
   "metadata": {},
   "outputs": [],
   "source": [
    "weekly_sales['Total ($)'] = daily_sales"
   ]
  },
  {
   "cell_type": "code",
   "execution_count": 281,
   "id": "aca8818c",
   "metadata": {},
   "outputs": [
    {
     "data": {
      "text/html": [
       "<div>\n",
       "<style scoped>\n",
       "    .dataframe tbody tr th:only-of-type {\n",
       "        vertical-align: middle;\n",
       "    }\n",
       "\n",
       "    .dataframe tbody tr th {\n",
       "        vertical-align: top;\n",
       "    }\n",
       "\n",
       "    .dataframe thead th {\n",
       "        text-align: right;\n",
       "    }\n",
       "</style>\n",
       "<table border=\"1\" class=\"dataframe\">\n",
       "  <thead>\n",
       "    <tr style=\"text-align: right;\">\n",
       "      <th></th>\n",
       "      <th>A butter</th>\n",
       "      <th>B Butter</th>\n",
       "      <th>C Butter</th>\n",
       "      <th>Total ($)</th>\n",
       "    </tr>\n",
       "  </thead>\n",
       "  <tbody>\n",
       "    <tr>\n",
       "      <th>Monday</th>\n",
       "      <td>44</td>\n",
       "      <td>47</td>\n",
       "      <td>64</td>\n",
       "      <td>1584</td>\n",
       "    </tr>\n",
       "    <tr>\n",
       "      <th>Tuesday</th>\n",
       "      <td>67</td>\n",
       "      <td>67</td>\n",
       "      <td>9</td>\n",
       "      <td>1314</td>\n",
       "    </tr>\n",
       "    <tr>\n",
       "      <th>Wednesday</th>\n",
       "      <td>83</td>\n",
       "      <td>21</td>\n",
       "      <td>36</td>\n",
       "      <td>1430</td>\n",
       "    </tr>\n",
       "    <tr>\n",
       "      <th>Thursday</th>\n",
       "      <td>87</td>\n",
       "      <td>70</td>\n",
       "      <td>88</td>\n",
       "      <td>2486</td>\n",
       "    </tr>\n",
       "    <tr>\n",
       "      <th>Friday</th>\n",
       "      <td>88</td>\n",
       "      <td>12</td>\n",
       "      <td>58</td>\n",
       "      <td>1672</td>\n",
       "    </tr>\n",
       "  </tbody>\n",
       "</table>\n",
       "</div>"
      ],
      "text/plain": [
       "           A butter  B Butter  C Butter  Total ($)\n",
       "Monday           44        47        64       1584\n",
       "Tuesday          67        67         9       1314\n",
       "Wednesday        83        21        36       1430\n",
       "Thursday         87        70        88       2486\n",
       "Friday           88        12        58       1672"
      ]
     },
     "execution_count": 281,
     "metadata": {},
     "output_type": "execute_result"
    }
   ],
   "source": [
    "weekly_sales"
   ]
  },
  {
   "cell_type": "code",
   "execution_count": 282,
   "id": "92a66c56",
   "metadata": {},
   "outputs": [
    {
     "data": {
      "text/plain": [
       "array([[False,  True,  True,  True],\n",
       "       [ True,  True,  True,  True]])"
      ]
     },
     "execution_count": 282,
     "metadata": {},
     "output_type": "execute_result"
    }
   ],
   "source": [
    "a1 > a2"
   ]
  },
  {
   "cell_type": "code",
   "execution_count": 283,
   "id": "723e9d1e",
   "metadata": {},
   "outputs": [
    {
     "data": {
      "text/plain": [
       "array([False,  True,  True,  True])"
      ]
     },
     "execution_count": 283,
     "metadata": {},
     "output_type": "execute_result"
    }
   ],
   "source": [
    "a1>3"
   ]
  },
  {
   "cell_type": "code",
   "execution_count": 284,
   "id": "de5b9348",
   "metadata": {},
   "outputs": [
    {
     "data": {
      "text/plain": [
       "array([False, False, False, False])"
      ]
     },
     "execution_count": 284,
     "metadata": {},
     "output_type": "execute_result"
    }
   ],
   "source": [
    "a1 ==3"
   ]
  },
  {
   "cell_type": "code",
   "execution_count": 285,
   "id": "4aa388cf",
   "metadata": {},
   "outputs": [
    {
     "data": {
      "text/plain": [
       "array([ True,  True,  True, False])"
      ]
     },
     "execution_count": 285,
     "metadata": {},
     "output_type": "execute_result"
    }
   ],
   "source": [
    "a1 < 20"
   ]
  },
  {
   "cell_type": "code",
   "execution_count": 286,
   "id": "6ee08512",
   "metadata": {},
   "outputs": [],
   "source": [
    "a6 = a1 < 5"
   ]
  },
  {
   "cell_type": "code",
   "execution_count": 287,
   "id": "ee32f0e0",
   "metadata": {},
   "outputs": [
    {
     "data": {
      "text/plain": [
       "array([ True,  True, False, False])"
      ]
     },
     "execution_count": 287,
     "metadata": {},
     "output_type": "execute_result"
    }
   ],
   "source": [
    "a6"
   ]
  },
  {
   "cell_type": "code",
   "execution_count": 288,
   "id": "4db32f69",
   "metadata": {},
   "outputs": [
    {
     "data": {
      "text/plain": [
       "numpy.ndarray"
      ]
     },
     "execution_count": 288,
     "metadata": {},
     "output_type": "execute_result"
    }
   ],
   "source": [
    "type(a6)"
   ]
  },
  {
   "cell_type": "code",
   "execution_count": 289,
   "id": "ce8e070d",
   "metadata": {},
   "outputs": [
    {
     "data": {
      "text/plain": [
       "dtype('bool')"
      ]
     },
     "execution_count": 289,
     "metadata": {},
     "output_type": "execute_result"
    }
   ],
   "source": [
    "a6.dtype"
   ]
  },
  {
   "cell_type": "code",
   "execution_count": 290,
   "id": "43e258a5",
   "metadata": {},
   "outputs": [
    {
     "data": {
      "text/plain": [
       "array([[0, 8],\n",
       "       [9, 0]])"
      ]
     },
     "execution_count": 290,
     "metadata": {},
     "output_type": "execute_result"
    }
   ],
   "source": [
    "random_array"
   ]
  },
  {
   "cell_type": "code",
   "execution_count": 291,
   "id": "543e74c0",
   "metadata": {},
   "outputs": [],
   "source": [
    "random_array_2.sort()"
   ]
  },
  {
   "cell_type": "code",
   "execution_count": 292,
   "id": "f436d28e",
   "metadata": {},
   "outputs": [
    {
     "data": {
      "text/plain": [
       "array([[0.09666275, 0.38984721, 0.66006903, 0.82659868, 0.87192031],\n",
       "       [0.10391714, 0.41021491, 0.42603109, 0.61856416, 0.7424822 ],\n",
       "       [0.22073963, 0.46840187, 0.50067678, 0.60863739, 0.91800195],\n",
       "       [0.16027893, 0.83374265, 0.85562056, 0.90129686, 0.94145032]])"
      ]
     },
     "execution_count": 292,
     "metadata": {},
     "output_type": "execute_result"
    }
   ],
   "source": [
    "random_array_2"
   ]
  },
  {
   "cell_type": "code",
   "execution_count": 293,
   "id": "0018fa3f",
   "metadata": {},
   "outputs": [
    {
     "data": {
      "text/plain": [
       "array([ 2,  4,  5, 67])"
      ]
     },
     "execution_count": 293,
     "metadata": {},
     "output_type": "execute_result"
    }
   ],
   "source": [
    "a1"
   ]
  },
  {
   "cell_type": "code",
   "execution_count": 294,
   "id": "00941d40",
   "metadata": {},
   "outputs": [
    {
     "data": {
      "text/plain": [
       "array([0, 1, 2, 3], dtype=int64)"
      ]
     },
     "execution_count": 294,
     "metadata": {},
     "output_type": "execute_result"
    }
   ],
   "source": [
    "a1.argsort()"
   ]
  },
  {
   "cell_type": "code",
   "execution_count": 295,
   "id": "1a751595",
   "metadata": {},
   "outputs": [
    {
     "data": {
      "text/plain": [
       "0"
      ]
     },
     "execution_count": 295,
     "metadata": {},
     "output_type": "execute_result"
    }
   ],
   "source": [
    "a1.argmin()"
   ]
  },
  {
   "cell_type": "code",
   "execution_count": 296,
   "id": "7f6f0844",
   "metadata": {},
   "outputs": [
    {
     "data": {
      "text/plain": [
       "3"
      ]
     },
     "execution_count": 296,
     "metadata": {},
     "output_type": "execute_result"
    }
   ],
   "source": [
    "a1.argmax()"
   ]
  },
  {
   "cell_type": "code",
   "execution_count": 297,
   "id": "074cff0b",
   "metadata": {},
   "outputs": [
    {
     "data": {
      "text/plain": [
       "array([1, 0], dtype=int64)"
      ]
     },
     "execution_count": 297,
     "metadata": {},
     "output_type": "execute_result"
    }
   ],
   "source": [
    "np.argmax(random_array,axis=0)"
   ]
  },
  {
   "cell_type": "code",
   "execution_count": 298,
   "id": "aecc9bae",
   "metadata": {},
   "outputs": [
    {
     "data": {
      "text/plain": [
       "array([1, 0], dtype=int64)"
      ]
     },
     "execution_count": 298,
     "metadata": {},
     "output_type": "execute_result"
    }
   ],
   "source": [
    "np.argmax(random_array,axis=1)"
   ]
  },
  {
   "cell_type": "markdown",
   "id": "37a37d87",
   "metadata": {},
   "source": [
    "<img src = 'panda.png'/>"
   ]
  },
  {
   "cell_type": "code",
   "execution_count": 309,
   "id": "49952419",
   "metadata": {},
   "outputs": [],
   "source": [
    "from matplotlib.image import imread"
   ]
  },
  {
   "cell_type": "code",
   "execution_count": 310,
   "id": "f8ac9bbb",
   "metadata": {},
   "outputs": [],
   "source": [
    "panda = imread('panda.png')"
   ]
  },
  {
   "cell_type": "code",
   "execution_count": 313,
   "id": "f64ee84a",
   "metadata": {},
   "outputs": [
    {
     "data": {
      "text/plain": [
       "array([[[0.05490196, 0.10588235, 0.06666667],\n",
       "        [0.05490196, 0.10588235, 0.06666667],\n",
       "        [0.05490196, 0.10588235, 0.06666667],\n",
       "        ...,\n",
       "        [0.16470589, 0.12941177, 0.09411765],\n",
       "        [0.16470589, 0.12941177, 0.09411765],\n",
       "        [0.16470589, 0.12941177, 0.09411765]],\n",
       "\n",
       "       [[0.05490196, 0.10588235, 0.06666667],\n",
       "        [0.05490196, 0.10588235, 0.06666667],\n",
       "        [0.05490196, 0.10588235, 0.06666667],\n",
       "        ...,\n",
       "        [0.16470589, 0.12941177, 0.09411765],\n",
       "        [0.16470589, 0.12941177, 0.09411765],\n",
       "        [0.16470589, 0.12941177, 0.09411765]],\n",
       "\n",
       "       [[0.05490196, 0.10588235, 0.06666667],\n",
       "        [0.05490196, 0.10588235, 0.06666667],\n",
       "        [0.05490196, 0.10588235, 0.06666667],\n",
       "        ...,\n",
       "        [0.16470589, 0.12941177, 0.09411765],\n",
       "        [0.16470589, 0.12941177, 0.09411765],\n",
       "        [0.16470589, 0.12941177, 0.09411765]]], dtype=float32)"
      ]
     },
     "execution_count": 313,
     "metadata": {},
     "output_type": "execute_result"
    }
   ],
   "source": [
    "panda[:3]"
   ]
  },
  {
   "cell_type": "code",
   "execution_count": 314,
   "id": "000795cc",
   "metadata": {},
   "outputs": [],
   "source": [
    "car = imread('car-photo.png')"
   ]
  },
  {
   "cell_type": "code",
   "execution_count": 316,
   "id": "536b3fdc",
   "metadata": {},
   "outputs": [
    {
     "data": {
      "text/plain": [
       "array([[0.5019608 , 0.50980395, 0.4862745 , 1.        ],\n",
       "       [0.3372549 , 0.34509805, 0.30588236, 1.        ],\n",
       "       [0.20392157, 0.21568628, 0.14901961, 1.        ],\n",
       "       ...,\n",
       "       [0.64705884, 0.7058824 , 0.54901963, 1.        ],\n",
       "       [0.59607846, 0.63529414, 0.45882353, 1.        ],\n",
       "       [0.44705883, 0.47058824, 0.3372549 , 1.        ]], dtype=float32)"
      ]
     },
     "execution_count": 316,
     "metadata": {},
     "output_type": "execute_result"
    }
   ],
   "source": [
    "car[0]"
   ]
  },
  {
   "cell_type": "code",
   "execution_count": 317,
   "id": "af6c871d",
   "metadata": {},
   "outputs": [
    {
     "data": {
      "text/plain": [
       "numpy.ndarray"
      ]
     },
     "execution_count": 317,
     "metadata": {},
     "output_type": "execute_result"
    }
   ],
   "source": [
    "type(car)"
   ]
  },
  {
   "cell_type": "code",
   "execution_count": null,
   "id": "73572549",
   "metadata": {},
   "outputs": [],
   "source": [
    "dict"
   ]
  }
 ],
 "metadata": {
  "kernelspec": {
   "display_name": "Python 3 (ipykernel)",
   "language": "python",
   "name": "python3"
  },
  "language_info": {
   "codemirror_mode": {
    "name": "ipython",
    "version": 3
   },
   "file_extension": ".py",
   "mimetype": "text/x-python",
   "name": "python",
   "nbconvert_exporter": "python",
   "pygments_lexer": "ipython3",
   "version": "3.9.6"
  }
 },
 "nbformat": 4,
 "nbformat_minor": 5
}
